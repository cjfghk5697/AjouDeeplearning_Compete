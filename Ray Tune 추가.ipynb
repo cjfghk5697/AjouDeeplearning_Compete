{
  "cells": [
    {
      "cell_type": "markdown",
      "metadata": {
        "id": "view-in-github",
        "colab_type": "text"
      },
      "source": [
        "<a href=\"https://colab.research.google.com/github/cjfghk5697/AjouDeeplearning_Compete/blob/main/Ray%20Tune%20%EC%B6%94%EA%B0%80.ipynb\" target=\"_parent\"><img src=\"https://colab.research.google.com/assets/colab-badge.svg\" alt=\"Open In Colab\"/></a>"
      ]
    },
    {
      "cell_type": "markdown",
      "metadata": {
        "id": "mwCqIvW86tST"
      },
      "source": [
        "# 1. 이진화 코드 추가\n",
        " 이진화란 이미지를 흰색과 검은색으로 바꾼다고 생각하면 된다.\n",
        "속도가 향상되고 정확도도 미약하지만 향상된것을 볼수 있다.\n",
        "\n",
        " [Dacon 적용 예시](https://dacon.io/competitions/official/235697/codeshare/2436?page=2&dtype=recent)\n",
        "\n",
        "\n",
        " [이진화 설명](https://gmnam.tistory.com/263)\n",
        "\n",
        " <hr>\n",
        "\n",
        " # 2. train, valid set 나누기\n",
        "```\n",
        "train_dataset, valid_dataset = torch.utils.data.random_split(trainset, [train_size, valid_size])\n",
        "\n",
        "train_loader = DataLoader(train_dataset, batch_size=64, num_workers=8)\n",
        "valid_loader = DataLoader(valid_dataset, batch_size=64, num_workers=8)\n",
        "```\n",
        "처음에는 나누어지지 않아있는 코드였단 걸 발견하고 random_split 함수를 이용해 나눔. 그리고 학습 부분에서 valid 데이터를 enumerate하는 구문추가해서 valid 확인.\n",
        "\n",
        "<hr>\n",
        "\n",
        "# 3. Multi Sample Dropout 구현\n",
        "\n",
        "[자료](https://velog.io/@sujeongim/%EC%83%88%EB%A1%9C-%EB%B0%B0%EC%9A%B4-%EC%BD%94%EB%93%9C-%EC%A1%B0%EA%B0%81-Multi-Sample-Dropout)\n",
        "단순 dropout 기법을 안썼다. 근데 큰효과가 있는지는 잘 모르지만 overfitting의 위협도 없앨겸 선택했다.\n",
        "\n",
        "<hr>\n",
        "\n",
        "# 4. Scheduler 추가\n",
        "일단 간단하게 StepLR scheduler을 추가했다.\n",
        "\n",
        "\n",
        "\n",
        "<hr>\n",
        "\n",
        "# 5. Drop out 실수\n",
        "전 Drop out에서는 sigmoid가 있다. 근데 필자가 Multi-Label Loss Function을 이용함으로써 활성화 함수를 더 추가할 필요가 없었다. 그러나 sigmoid를 또 넣음으로써 sigmoid 계층 2개를 들어가는 거다. 결국 loss 값이 적어져서 학습 진행이 안된거다. 학습이 잘 안되면 활성화 함수에서 loss 값이 얼마 나오는지 잘 확인해야겠다..\n",
        "\n",
        "https://cvml.tistory.com/26 \n",
        "Multi-Label Loss Function에 대해 잘 설명 되어있다.\n",
        "\n",
        "\n",
        "<hr>\n",
        "\n",
        "# 6. 왜 정확도가 안오를까?\n",
        "이상하게도 valid도 장확도가 같이 오르는데 test를 하면 정확도는 50%다 혹시나 해서 이진화를 빼고 해봤는데도 정확도가 안오른다 (05.15)\n",
        "\n",
        "-테스트\n",
        "\n",
        "1. efficientnetb1에서 epoch 수를 늘려봤다. 과거에는 5번 정도만 해도 valid 정확도가 높게 나왔다. 하지만 epoch를 늘린다고 해결될 일이 절대 아닌 거 같다.\n",
        "\n",
        "2. overfitting 인거 같아서 dropout을 추가했다. 활성화 함수도 한층 추가해봐서 실험. (실패)\n",
        "\n",
        "3. 추적그래프를 그리기 위해 추적그래프를 추가했다.\n",
        "\n",
        "4. DACON 토론에 올렸다.[링크](https://dacon.io/forum/406352)  답변이 왔고 확실히 여기서 model.eval()과 model.train(), model.zero_grab()에 대해 다시 공부했다.. valid에 zero_grab을 하여 학습이 진행되고 있었고 eval 또한 안해서 불필요한 과정을 가지고 있었다. \n",
        "\n",
        "### 해결\n",
        "결국은 inference에서 모델을 잘못 가지고 오고 있었다.. 결국 다시해본결과 80% 정확도가 나왔지만 아직 90% 정확도는 안나온다.\n",
        "\n",
        "# 7. 또다시 연구\n",
        "이번에는 적절한 파라미터를 찾기위한 튜닝 작업을 해보고자 한다. 하기전 optimizer와 scheduler를 이제 바꿀거다. optimizer는 SAM, Scheduler는 CosineAnnealingWarmRestarts로 설정 후 튜닝을 할 것이다. 이후 아마도 앙상블을 구현하여 90%대에 도전해볼 것이다.\n",
        "\n",
        "\n",
        "\n",
        "\n",
        "\n"
      ]
    },
    {
      "cell_type": "code",
      "execution_count": 1,
      "metadata": {
        "colab": {
          "base_uri": "https://localhost:8080/"
        },
        "id": "xwV9U9iOB8M4",
        "outputId": "16a3a941-56ab-47a7-ae0f-982ef21d442c"
      },
      "outputs": [
        {
          "output_type": "stream",
          "name": "stdout",
          "text": [
            "Drive already mounted at /content/drive; to attempt to forcibly remount, call drive.mount(\"/content/drive\", force_remount=True).\n"
          ]
        }
      ],
      "source": [
        "from google.colab import drive\n",
        "drive.mount('/content/drive')"
      ]
    },
    {
      "cell_type": "code",
      "execution_count": 2,
      "metadata": {
        "id": "44kva0aP7lPz"
      },
      "outputs": [],
      "source": [
        "#%cd /content/drive/MyDrive/Train image2\n",
        "#!unzip -q \"/content/drive/MyDrive/multi-mnist zipfile/dirty_mnist_2nd.zip\""
      ]
    },
    {
      "cell_type": "code",
      "execution_count": 3,
      "metadata": {
        "colab": {
          "base_uri": "https://localhost:8080/"
        },
        "id": "gF4174-lYKPy",
        "outputId": "b617c2d4-1162-441e-b202-903fc8dab4ab"
      },
      "outputs": [
        {
          "output_type": "stream",
          "name": "stdout",
          "text": [
            "Looking in indexes: https://pypi.org/simple, https://us-python.pkg.dev/colab-wheels/public/simple/\n",
            "Requirement already satisfied: torchinfo in /usr/local/lib/python3.7/dist-packages (1.7.0)\n",
            "Looking in indexes: https://pypi.org/simple, https://us-python.pkg.dev/colab-wheels/public/simple/\n",
            "\u001b[31mERROR: Could not find a version that satisfies the requirement cv2 (from versions: none)\u001b[0m\n",
            "\u001b[31mERROR: No matching distribution found for cv2\u001b[0m\n",
            "Looking in indexes: https://pypi.org/simple, https://us-python.pkg.dev/colab-wheels/public/simple/\n",
            "Requirement already satisfied: ray in /usr/local/lib/python3.7/dist-packages (1.12.1)\n",
            "Requirement already satisfied: click>=7.0 in /usr/local/lib/python3.7/dist-packages (from ray) (7.1.2)\n",
            "Requirement already satisfied: frozenlist in /usr/local/lib/python3.7/dist-packages (from ray) (1.3.0)\n",
            "Requirement already satisfied: requests in /usr/local/lib/python3.7/dist-packages (from ray) (2.23.0)\n",
            "Requirement already satisfied: pyyaml in /usr/local/lib/python3.7/dist-packages (from ray) (3.13)\n",
            "Requirement already satisfied: virtualenv in /usr/local/lib/python3.7/dist-packages (from ray) (20.14.1)\n",
            "Requirement already satisfied: protobuf>=3.15.3 in /usr/local/lib/python3.7/dist-packages (from ray) (3.17.3)\n",
            "Requirement already satisfied: aiosignal in /usr/local/lib/python3.7/dist-packages (from ray) (1.2.0)\n",
            "Requirement already satisfied: attrs in /usr/local/lib/python3.7/dist-packages (from ray) (21.4.0)\n",
            "Requirement already satisfied: numpy>=1.16 in /usr/local/lib/python3.7/dist-packages (from ray) (1.21.6)\n",
            "Requirement already satisfied: msgpack<2.0.0,>=1.0.0 in /usr/local/lib/python3.7/dist-packages (from ray) (1.0.3)\n",
            "Requirement already satisfied: grpcio<=1.43.0,>=1.28.1 in /usr/local/lib/python3.7/dist-packages (from ray) (1.43.0)\n",
            "Requirement already satisfied: jsonschema in /usr/local/lib/python3.7/dist-packages (from ray) (4.3.3)\n",
            "Requirement already satisfied: filelock in /usr/local/lib/python3.7/dist-packages (from ray) (3.7.0)\n",
            "Requirement already satisfied: six>=1.5.2 in /usr/local/lib/python3.7/dist-packages (from grpcio<=1.43.0,>=1.28.1->ray) (1.15.0)\n",
            "Requirement already satisfied: importlib-resources>=1.4.0 in /usr/local/lib/python3.7/dist-packages (from jsonschema->ray) (5.7.1)\n",
            "Requirement already satisfied: pyrsistent!=0.17.0,!=0.17.1,!=0.17.2,>=0.14.0 in /usr/local/lib/python3.7/dist-packages (from jsonschema->ray) (0.18.1)\n",
            "Requirement already satisfied: typing-extensions in /usr/local/lib/python3.7/dist-packages (from jsonschema->ray) (4.2.0)\n",
            "Requirement already satisfied: importlib-metadata in /usr/local/lib/python3.7/dist-packages (from jsonschema->ray) (4.11.4)\n",
            "Requirement already satisfied: zipp>=3.1.0 in /usr/local/lib/python3.7/dist-packages (from importlib-resources>=1.4.0->jsonschema->ray) (3.8.0)\n",
            "Requirement already satisfied: urllib3!=1.25.0,!=1.25.1,<1.26,>=1.21.1 in /usr/local/lib/python3.7/dist-packages (from requests->ray) (1.24.3)\n",
            "Requirement already satisfied: idna<3,>=2.5 in /usr/local/lib/python3.7/dist-packages (from requests->ray) (2.10)\n",
            "Requirement already satisfied: chardet<4,>=3.0.2 in /usr/local/lib/python3.7/dist-packages (from requests->ray) (3.0.4)\n",
            "Requirement already satisfied: certifi>=2017.4.17 in /usr/local/lib/python3.7/dist-packages (from requests->ray) (2022.5.18.1)\n",
            "Requirement already satisfied: distlib<1,>=0.3.1 in /usr/local/lib/python3.7/dist-packages (from virtualenv->ray) (0.3.4)\n",
            "Requirement already satisfied: platformdirs<3,>=2 in /usr/local/lib/python3.7/dist-packages (from virtualenv->ray) (2.5.2)\n",
            "Looking in indexes: https://pypi.org/simple, https://us-python.pkg.dev/colab-wheels/public/simple/\n",
            "Requirement already satisfied: optuna in /usr/local/lib/python3.7/dist-packages (2.10.0)\n",
            "Requirement already satisfied: scipy!=1.4.0 in /usr/local/lib/python3.7/dist-packages (from optuna) (1.4.1)\n",
            "Requirement already satisfied: packaging>=20.0 in /usr/local/lib/python3.7/dist-packages (from optuna) (21.3)\n",
            "Requirement already satisfied: numpy in /usr/local/lib/python3.7/dist-packages (from optuna) (1.21.6)\n",
            "Requirement already satisfied: cmaes>=0.8.2 in /usr/local/lib/python3.7/dist-packages (from optuna) (0.8.2)\n",
            "Requirement already satisfied: sqlalchemy>=1.1.0 in /usr/local/lib/python3.7/dist-packages (from optuna) (1.4.36)\n",
            "Requirement already satisfied: tqdm in /usr/local/lib/python3.7/dist-packages (from optuna) (4.64.0)\n",
            "Requirement already satisfied: alembic in /usr/local/lib/python3.7/dist-packages (from optuna) (1.8.0)\n",
            "Requirement already satisfied: colorlog in /usr/local/lib/python3.7/dist-packages (from optuna) (6.6.0)\n",
            "Requirement already satisfied: cliff in /usr/local/lib/python3.7/dist-packages (from optuna) (3.10.1)\n",
            "Requirement already satisfied: PyYAML in /usr/local/lib/python3.7/dist-packages (from optuna) (3.13)\n",
            "Requirement already satisfied: pyparsing!=3.0.5,>=2.0.2 in /usr/local/lib/python3.7/dist-packages (from packaging>=20.0->optuna) (3.0.9)\n",
            "Requirement already satisfied: importlib-metadata in /usr/local/lib/python3.7/dist-packages (from sqlalchemy>=1.1.0->optuna) (4.11.4)\n",
            "Requirement already satisfied: greenlet!=0.4.17 in /usr/local/lib/python3.7/dist-packages (from sqlalchemy>=1.1.0->optuna) (1.1.2)\n",
            "Requirement already satisfied: Mako in /usr/local/lib/python3.7/dist-packages (from alembic->optuna) (1.2.0)\n",
            "Requirement already satisfied: importlib-resources in /usr/local/lib/python3.7/dist-packages (from alembic->optuna) (5.7.1)\n",
            "Requirement already satisfied: PrettyTable>=0.7.2 in /usr/local/lib/python3.7/dist-packages (from cliff->optuna) (3.3.0)\n",
            "Requirement already satisfied: autopage>=0.4.0 in /usr/local/lib/python3.7/dist-packages (from cliff->optuna) (0.5.1)\n",
            "Requirement already satisfied: cmd2>=1.0.0 in /usr/local/lib/python3.7/dist-packages (from cliff->optuna) (2.4.1)\n",
            "Requirement already satisfied: stevedore>=2.0.1 in /usr/local/lib/python3.7/dist-packages (from cliff->optuna) (3.5.0)\n",
            "Requirement already satisfied: pbr!=2.1.0,>=2.0.0 in /usr/local/lib/python3.7/dist-packages (from cliff->optuna) (5.9.0)\n",
            "Requirement already satisfied: typing-extensions in /usr/local/lib/python3.7/dist-packages (from cmd2>=1.0.0->cliff->optuna) (4.2.0)\n",
            "Requirement already satisfied: pyperclip>=1.6 in /usr/local/lib/python3.7/dist-packages (from cmd2>=1.0.0->cliff->optuna) (1.8.2)\n",
            "Requirement already satisfied: wcwidth>=0.1.7 in /usr/local/lib/python3.7/dist-packages (from cmd2>=1.0.0->cliff->optuna) (0.2.5)\n",
            "Requirement already satisfied: attrs>=16.3.0 in /usr/local/lib/python3.7/dist-packages (from cmd2>=1.0.0->cliff->optuna) (21.4.0)\n",
            "Requirement already satisfied: zipp>=0.5 in /usr/local/lib/python3.7/dist-packages (from importlib-metadata->sqlalchemy>=1.1.0->optuna) (3.8.0)\n",
            "Requirement already satisfied: MarkupSafe>=0.9.2 in /usr/local/lib/python3.7/dist-packages (from Mako->alembic->optuna) (2.0.1)\n"
          ]
        }
      ],
      "source": [
        "!pip3 install torchinfo\n",
        "!pip3 install cv2\n",
        "!pip3 install ray\n",
        "!pip install optuna"
      ]
    },
    {
      "cell_type": "code",
      "execution_count": 4,
      "metadata": {
        "id": "RTMT6OMkBtpa"
      },
      "outputs": [],
      "source": [
        "import os\n",
        "from typing import Tuple, Sequence, Callable\n",
        "import csv\n",
        "import cv2\n",
        "import numpy as np\n",
        "import pandas as pd\n",
        "from PIL import Image\n",
        "import torch\n",
        "import torch.optim as optim\n",
        "from torch import nn, Tensor\n",
        "from torch.utils.data import Dataset, DataLoader\n",
        "from torchinfo import summary\n",
        "from torchvision import transforms\n",
        "from torchvision.models import efficientnet_b0\n",
        "from torch.nn import functional as F\n",
        "from ray import tune\n",
        "from ray.tune.suggest.optuna import OptunaSearch\n"
      ]
    },
    {
      "cell_type": "code",
      "execution_count": 5,
      "metadata": {
        "id": "NjkhhJXmBtpl"
      },
      "outputs": [],
      "source": [
        "class MnistDataset(Dataset):\n",
        "    def __init__(\n",
        "        self,\n",
        "        dir: os.PathLike,\n",
        "        image_ids: os.PathLike,\n",
        "        transforms: Sequence[Callable]\n",
        "    ) -> None:\n",
        "        self.dir = dir\n",
        "        self.transforms = transforms\n",
        "\n",
        "        self.labels = {}\n",
        "        with open(image_ids, 'r') as f:\n",
        "            reader = csv.reader(f)\n",
        "            next(reader)\n",
        "            for row in reader:\n",
        "                self.labels[int(row[0])] = list(map(int, row[1:]))\n",
        "\n",
        "        self.image_ids = list(self.labels.keys())\n",
        "\n",
        "    def __len__(self) -> int:\n",
        "        return len(self.image_ids)\n",
        "\n",
        "    def __getitem__(self, index: int) -> Tuple[Tensor]:\n",
        "        image_id = self.image_ids[index]\n",
        "        image = Image.open(\n",
        "            os.path.join(\n",
        "                self.dir, f'{str(image_id).zfill(5)}.png')).convert('RGB')\n",
        "        target = np.array(self.labels.get(image_id)).astype(np.float32)\n",
        "\n",
        "\n",
        "        image = np.array(image)\n",
        "#이진화 완료 cv2 툴을 써서 threshold로 254 값으로 변환. cv2는 넘파이만 사용 가능해서 넘파이로 변환후 fromarry로 pil로 바꾼다.\n",
        "        #image_th = cv2.threshold(image,254,255,0)[1]\n",
        "        image = Image.fromarray(image) # NumPy array to PIL image\n",
        "        if self.transforms is not None:\n",
        "            image = self.transforms(image)\n",
        "\n",
        "        return image, target"
      ]
    },
    {
      "cell_type": "code",
      "execution_count": 6,
      "metadata": {
        "id": "GJ0iMdDKBtpp"
      },
      "outputs": [],
      "source": [
        "transforms_train = transforms.Compose([\n",
        "    transforms.RandomHorizontalFlip(p=0.5),\n",
        "    transforms.RandomVerticalFlip(p=0.5),\n",
        "    transforms.ToTensor(),\n",
        "    transforms.Normalize(\n",
        "        [0.485, 0.456, 0.406],\n",
        "        [0.229, 0.224, 0.225]\n",
        "    )\n",
        "])\n",
        "\n",
        "transforms_test = transforms.Compose([\n",
        "    transforms.ToTensor(),\n",
        "    transforms.Normalize(\n",
        "        [0.485, 0.456, 0.406],\n",
        "        [0.229, 0.224, 0.225]\n",
        "    )\n",
        "])"
      ]
    },
    {
      "cell_type": "code",
      "execution_count": 7,
      "metadata": {
        "id": "fTvYYjNnBtpr"
      },
      "outputs": [],
      "source": [
        "trainset = MnistDataset('/content/drive/MyDrive/Train image2', '/content/drive/MyDrive/multi-mnist zipfile/dirty_mnist_2nd_answer.csv', transforms_train)\n",
        "\n",
        "lengths = [int(len(trainset)*0.8), int(len(trainset)*0.2)]\n",
        "\n",
        "train_dataset, valid_dataset = torch.utils.data.random_split(trainset, lengths)\n",
        "\n",
        "train_loader = DataLoader(train_dataset, batch_size=16, num_workers=2)\n",
        "valid_loader = DataLoader(valid_dataset, batch_size=8, num_workers=2)"
      ]
    },
    {
      "cell_type": "code",
      "execution_count": 8,
      "metadata": {
        "colab": {
          "base_uri": "https://localhost:8080/"
        },
        "id": "kziKrm1tBtpt",
        "outputId": "08c37ae1-95bd-4f46-fab2-1a7205474488"
      },
      "outputs": [
        {
          "output_type": "stream",
          "name": "stdout",
          "text": [
            "==============================================================================================================\n",
            "Layer (type:depth-idx)                                       Output Shape              Param #\n",
            "==============================================================================================================\n",
            "MnistModel                                                   [1, 26]                   --\n",
            "├─EfficientNet: 1-1                                          [1, 1000]                 --\n",
            "│    └─Sequential: 2-1                                       [1, 1280, 8, 8]           --\n",
            "│    │    └─ConvNormActivation: 3-1                          [1, 32, 128, 128]         928\n",
            "│    │    └─Sequential: 3-2                                  [1, 16, 128, 128]         1,448\n",
            "│    │    └─Sequential: 3-3                                  [1, 24, 64, 64]           16,714\n",
            "│    │    └─Sequential: 3-4                                  [1, 40, 32, 32]           46,640\n",
            "│    │    └─Sequential: 3-5                                  [1, 80, 16, 16]           242,930\n",
            "│    │    └─Sequential: 3-6                                  [1, 112, 16, 16]          543,148\n",
            "│    │    └─Sequential: 3-7                                  [1, 192, 8, 8]            2,026,348\n",
            "│    │    └─Sequential: 3-8                                  [1, 320, 8, 8]            717,232\n",
            "│    │    └─ConvNormActivation: 3-9                          [1, 1280, 8, 8]           412,160\n",
            "│    └─AdaptiveAvgPool2d: 2-2                                [1, 1280, 1, 1]           --\n",
            "│    └─Sequential: 2-3                                       [1, 1000]                 --\n",
            "│    │    └─Dropout: 3-10                                    [1, 1280]                 --\n",
            "│    │    └─Linear: 3-11                                     [1, 1000]                 1,281,000\n",
            "├─Linear: 1-2                                                [1, 26]                   26,026\n",
            "==============================================================================================================\n",
            "Total params: 5,314,574\n",
            "Trainable params: 5,314,574\n",
            "Non-trainable params: 0\n",
            "Total mult-adds (M): 503.42\n",
            "==============================================================================================================\n",
            "Input size (MB): 0.79\n",
            "Forward/backward pass size (MB): 140.89\n",
            "Params size (MB): 21.26\n",
            "Estimated Total Size (MB): 162.93\n",
            "==============================================================================================================\n"
          ]
        }
      ],
      "source": [
        "class MnistModel(nn.Module):\n",
        "    def __init__(self) -> None:\n",
        "        super().__init__()\n",
        "        self.model = efficientnet_b0(pretrained=True)\n",
        "        self.dropout=nn.Dropout(p=0.5)\n",
        "        self.classifier = nn.Linear(1000, 26)\n",
        "    def forward(self, x):\n",
        "        #x = F.relu(self.model(x))\n",
        "        x = self.model(x)  \n",
        "        x = self.classifier(x)\n",
        "        return x\n",
        "\n",
        "device = torch.device('cuda' if torch.cuda.is_available() else 'cpu')\n",
        "model = MnistModel().to(device)\n",
        "print(summary(model, input_size=(1, 3, 256, 256), verbose=0))"
      ]
    },
    {
      "cell_type": "code",
      "source": [
        "class SAM(torch.optim.Optimizer):\n",
        "    def __init__(self, params, base_optimizer, rho=0.05, **kwargs):\n",
        "        assert rho >= 0.0, f\"Invalid rho, should be non-negative: {rho}\"\n",
        "\n",
        "        defaults = dict(rho=rho, **kwargs)\n",
        "        super(SAM, self).__init__(params, defaults)\n",
        "\n",
        "        self.base_optimizer = base_optimizer(self.param_groups, **kwargs)\n",
        "        self.param_groups = self.base_optimizer.param_groups\n",
        "\n",
        "    @torch.no_grad()\n",
        "    def first_step(self, zero_grad=False):\n",
        "        grad_norm = self._grad_norm()\n",
        "        for group in self.param_groups:\n",
        "            scale = group[\"rho\"] / (grad_norm + 1e-12)\n",
        "\n",
        "            for p in group[\"params\"]:\n",
        "                if p.grad is None: continue\n",
        "                e_w = p.grad * scale.to(p)\n",
        "                p.add_(e_w)  # climb to the local maximum \"w + e(w)\"\n",
        "                self.state[p][\"e_w\"] = e_w\n",
        "\n",
        "        if zero_grad: self.zero_grad()\n",
        "\n",
        "    @torch.no_grad()\n",
        "    def second_step(self, zero_grad=False):\n",
        "        for group in self.param_groups:\n",
        "            for p in group[\"params\"]:\n",
        "                if p.grad is None: continue\n",
        "                p.sub_(self.state[p][\"e_w\"])  # get back to \"w\" from \"w + e(w)\"\n",
        "\n",
        "        self.base_optimizer.step()  # do the actual \"sharpness-aware\" update\n",
        "\n",
        "        if zero_grad: self.zero_grad()\n",
        "\n",
        "    @torch.no_grad()\n",
        "    def step(self, closure=None):\n",
        "        assert closure is not None, \"Sharpness Aware Minimization requires closure, but it was not provided\"\n",
        "        closure = torch.enable_grad()(closure)  # the closure should do a full forward-backward pass\n",
        "\n",
        "        self.first_step(zero_grad=True)\n",
        "        closure()\n",
        "        self.second_step()\n",
        "\n",
        "    def _grad_norm(self):\n",
        "        shared_device = self.param_groups[0][\"params\"][0].device  # put everything on the same device, in case of model parallelism\n",
        "        norm = torch.norm(\n",
        "                    torch.stack([\n",
        "                        p.grad.norm(p=2).to(shared_device)\n",
        "                        for group in self.param_groups for p in group[\"params\"]\n",
        "                        if p.grad is not None\n",
        "                    ]),\n",
        "                    p=2\n",
        "               )\n",
        "        return norm"
      ],
      "metadata": {
        "id": "CiHeTQASbFci"
      },
      "execution_count": 9,
      "outputs": []
    },
    {
      "cell_type": "code",
      "execution_count": null,
      "metadata": {
        "colab": {
          "base_uri": "https://localhost:8080/",
          "height": 1000
        },
        "id": "IZ3j-bG4Btpy",
        "outputId": "fe09513b-bd2f-4710-f040-7dcbd97c64ec"
      },
      "outputs": [
        {
          "output_type": "stream",
          "name": "stderr",
          "text": [
            "2022-06-04 16:20:06,218\tWARNING function_runner.py:599 -- Function checkpointing is disabled. This may result in unexpected behavior when using checkpointing features or certain schedulers. To enable, set the train function arguments to be `func(config, checkpoint_dir=None)`.\n",
            "\u001b[32m[I 2022-06-04 16:20:06,237]\u001b[0m A new study created in memory with name: optuna\u001b[0m\n",
            "2022-06-04 16:20:06,241\tINFO logger.py:618 -- pip install \"ray[tune]\" to see TensorBoard files.\n",
            "2022-06-04 16:20:06,242\tWARNING callback.py:126 -- The TensorboardX logger cannot be instantiated because either TensorboardX or one of it's dependencies is not installed. Please make sure you have the latest version of TensorboardX installed: `pip install -U tensorboardx`\n",
            "2022-06-04 16:20:06,385\tINFO trial_runner.py:803 -- starting objective_3220e474\n"
          ]
        },
        {
          "output_type": "display_data",
          "data": {
            "text/plain": [
              "<IPython.core.display.HTML object>"
            ],
            "text/html": [
              "== Status ==<br>Current time: 2022-06-04 16:20:08 (running for 00:00:02.44)<br>Memory usage on this node: 2.2/25.5 GiB<br>Using FIFO scheduling algorithm.<br>Resources requested: 1.0/4 CPUs, 0/0 GPUs, 0.0/15.01 GiB heap, 0.0/7.51 GiB objects<br>Result logdir: /root/ray_results/objective_2022-06-04_16-20-06<br>Number of trials: 1/1 (1 RUNNING)<br><table>\n",
              "<thead>\n",
              "<tr><th>Trial name        </th><th>status  </th><th>loc            </th><th style=\"text-align: right;\">         lr</th><th style=\"text-align: right;\">  momentum</th></tr>\n",
              "</thead>\n",
              "<tbody>\n",
              "<tr><td>objective_3220e474</td><td>RUNNING </td><td>172.28.0.2:3416</td><td style=\"text-align: right;\">0.000525679</td><td style=\"text-align: right;\">  0.185626</td></tr>\n",
              "</tbody>\n",
              "</table><br><br>"
            ]
          },
          "metadata": {}
        },
        {
          "output_type": "display_data",
          "data": {
            "text/plain": [
              "<IPython.core.display.HTML object>"
            ],
            "text/html": [
              "== Status ==<br>Current time: 2022-06-04 16:20:13 (running for 00:00:07.45)<br>Memory usage on this node: 3.2/25.5 GiB<br>Using FIFO scheduling algorithm.<br>Resources requested: 1.0/4 CPUs, 0/0 GPUs, 0.0/15.01 GiB heap, 0.0/7.51 GiB objects<br>Result logdir: /root/ray_results/objective_2022-06-04_16-20-06<br>Number of trials: 1/1 (1 RUNNING)<br><table>\n",
              "<thead>\n",
              "<tr><th>Trial name        </th><th>status  </th><th>loc            </th><th style=\"text-align: right;\">         lr</th><th style=\"text-align: right;\">  momentum</th></tr>\n",
              "</thead>\n",
              "<tbody>\n",
              "<tr><td>objective_3220e474</td><td>RUNNING </td><td>172.28.0.2:3416</td><td style=\"text-align: right;\">0.000525679</td><td style=\"text-align: right;\">  0.185626</td></tr>\n",
              "</tbody>\n",
              "</table><br><br>"
            ]
          },
          "metadata": {}
        },
        {
          "output_type": "display_data",
          "data": {
            "text/plain": [
              "<IPython.core.display.HTML object>"
            ],
            "text/html": [
              "== Status ==<br>Current time: 2022-06-04 16:20:18 (running for 00:00:12.46)<br>Memory usage on this node: 2.6/25.5 GiB<br>Using FIFO scheduling algorithm.<br>Resources requested: 1.0/4 CPUs, 0/0 GPUs, 0.0/15.01 GiB heap, 0.0/7.51 GiB objects<br>Result logdir: /root/ray_results/objective_2022-06-04_16-20-06<br>Number of trials: 1/1 (1 RUNNING)<br><table>\n",
              "<thead>\n",
              "<tr><th>Trial name        </th><th>status  </th><th>loc            </th><th style=\"text-align: right;\">         lr</th><th style=\"text-align: right;\">  momentum</th></tr>\n",
              "</thead>\n",
              "<tbody>\n",
              "<tr><td>objective_3220e474</td><td>RUNNING </td><td>172.28.0.2:3416</td><td style=\"text-align: right;\">0.000525679</td><td style=\"text-align: right;\">  0.185626</td></tr>\n",
              "</tbody>\n",
              "</table><br><br>"
            ]
          },
          "metadata": {}
        },
        {
          "output_type": "display_data",
          "data": {
            "text/plain": [
              "<IPython.core.display.HTML object>"
            ],
            "text/html": [
              "== Status ==<br>Current time: 2022-06-04 16:20:23 (running for 00:00:17.46)<br>Memory usage on this node: 2.6/25.5 GiB<br>Using FIFO scheduling algorithm.<br>Resources requested: 1.0/4 CPUs, 0/0 GPUs, 0.0/15.01 GiB heap, 0.0/7.51 GiB objects<br>Result logdir: /root/ray_results/objective_2022-06-04_16-20-06<br>Number of trials: 1/1 (1 RUNNING)<br><table>\n",
              "<thead>\n",
              "<tr><th>Trial name        </th><th>status  </th><th>loc            </th><th style=\"text-align: right;\">         lr</th><th style=\"text-align: right;\">  momentum</th></tr>\n",
              "</thead>\n",
              "<tbody>\n",
              "<tr><td>objective_3220e474</td><td>RUNNING </td><td>172.28.0.2:3416</td><td style=\"text-align: right;\">0.000525679</td><td style=\"text-align: right;\">  0.185626</td></tr>\n",
              "</tbody>\n",
              "</table><br><br>"
            ]
          },
          "metadata": {}
        },
        {
          "output_type": "display_data",
          "data": {
            "text/plain": [
              "<IPython.core.display.HTML object>"
            ],
            "text/html": [
              "== Status ==<br>Current time: 2022-06-04 16:20:28 (running for 00:00:22.47)<br>Memory usage on this node: 2.6/25.5 GiB<br>Using FIFO scheduling algorithm.<br>Resources requested: 1.0/4 CPUs, 0/0 GPUs, 0.0/15.01 GiB heap, 0.0/7.51 GiB objects<br>Result logdir: /root/ray_results/objective_2022-06-04_16-20-06<br>Number of trials: 1/1 (1 RUNNING)<br><table>\n",
              "<thead>\n",
              "<tr><th>Trial name        </th><th>status  </th><th>loc            </th><th style=\"text-align: right;\">         lr</th><th style=\"text-align: right;\">  momentum</th></tr>\n",
              "</thead>\n",
              "<tbody>\n",
              "<tr><td>objective_3220e474</td><td>RUNNING </td><td>172.28.0.2:3416</td><td style=\"text-align: right;\">0.000525679</td><td style=\"text-align: right;\">  0.185626</td></tr>\n",
              "</tbody>\n",
              "</table><br><br>"
            ]
          },
          "metadata": {}
        },
        {
          "output_type": "display_data",
          "data": {
            "text/plain": [
              "<IPython.core.display.HTML object>"
            ],
            "text/html": [
              "== Status ==<br>Current time: 2022-06-04 16:20:33 (running for 00:00:27.48)<br>Memory usage on this node: 2.6/25.5 GiB<br>Using FIFO scheduling algorithm.<br>Resources requested: 1.0/4 CPUs, 0/0 GPUs, 0.0/15.01 GiB heap, 0.0/7.51 GiB objects<br>Result logdir: /root/ray_results/objective_2022-06-04_16-20-06<br>Number of trials: 1/1 (1 RUNNING)<br><table>\n",
              "<thead>\n",
              "<tr><th>Trial name        </th><th>status  </th><th>loc            </th><th style=\"text-align: right;\">         lr</th><th style=\"text-align: right;\">  momentum</th></tr>\n",
              "</thead>\n",
              "<tbody>\n",
              "<tr><td>objective_3220e474</td><td>RUNNING </td><td>172.28.0.2:3416</td><td style=\"text-align: right;\">0.000525679</td><td style=\"text-align: right;\">  0.185626</td></tr>\n",
              "</tbody>\n",
              "</table><br><br>"
            ]
          },
          "metadata": {}
        },
        {
          "output_type": "display_data",
          "data": {
            "text/plain": [
              "<IPython.core.display.HTML object>"
            ],
            "text/html": [
              "== Status ==<br>Current time: 2022-06-04 16:20:38 (running for 00:00:32.49)<br>Memory usage on this node: 2.6/25.5 GiB<br>Using FIFO scheduling algorithm.<br>Resources requested: 1.0/4 CPUs, 0/0 GPUs, 0.0/15.01 GiB heap, 0.0/7.51 GiB objects<br>Result logdir: /root/ray_results/objective_2022-06-04_16-20-06<br>Number of trials: 1/1 (1 RUNNING)<br><table>\n",
              "<thead>\n",
              "<tr><th>Trial name        </th><th>status  </th><th>loc            </th><th style=\"text-align: right;\">         lr</th><th style=\"text-align: right;\">  momentum</th></tr>\n",
              "</thead>\n",
              "<tbody>\n",
              "<tr><td>objective_3220e474</td><td>RUNNING </td><td>172.28.0.2:3416</td><td style=\"text-align: right;\">0.000525679</td><td style=\"text-align: right;\">  0.185626</td></tr>\n",
              "</tbody>\n",
              "</table><br><br>"
            ]
          },
          "metadata": {}
        },
        {
          "output_type": "display_data",
          "data": {
            "text/plain": [
              "<IPython.core.display.HTML object>"
            ],
            "text/html": [
              "== Status ==<br>Current time: 2022-06-04 16:20:43 (running for 00:00:37.49)<br>Memory usage on this node: 2.6/25.5 GiB<br>Using FIFO scheduling algorithm.<br>Resources requested: 1.0/4 CPUs, 0/0 GPUs, 0.0/15.01 GiB heap, 0.0/7.51 GiB objects<br>Result logdir: /root/ray_results/objective_2022-06-04_16-20-06<br>Number of trials: 1/1 (1 RUNNING)<br><table>\n",
              "<thead>\n",
              "<tr><th>Trial name        </th><th>status  </th><th>loc            </th><th style=\"text-align: right;\">         lr</th><th style=\"text-align: right;\">  momentum</th></tr>\n",
              "</thead>\n",
              "<tbody>\n",
              "<tr><td>objective_3220e474</td><td>RUNNING </td><td>172.28.0.2:3416</td><td style=\"text-align: right;\">0.000525679</td><td style=\"text-align: right;\">  0.185626</td></tr>\n",
              "</tbody>\n",
              "</table><br><br>"
            ]
          },
          "metadata": {}
        },
        {
          "output_type": "display_data",
          "data": {
            "text/plain": [
              "<IPython.core.display.HTML object>"
            ],
            "text/html": [
              "== Status ==<br>Current time: 2022-06-04 16:20:48 (running for 00:00:42.50)<br>Memory usage on this node: 2.6/25.5 GiB<br>Using FIFO scheduling algorithm.<br>Resources requested: 1.0/4 CPUs, 0/0 GPUs, 0.0/15.01 GiB heap, 0.0/7.51 GiB objects<br>Result logdir: /root/ray_results/objective_2022-06-04_16-20-06<br>Number of trials: 1/1 (1 RUNNING)<br><table>\n",
              "<thead>\n",
              "<tr><th>Trial name        </th><th>status  </th><th>loc            </th><th style=\"text-align: right;\">         lr</th><th style=\"text-align: right;\">  momentum</th></tr>\n",
              "</thead>\n",
              "<tbody>\n",
              "<tr><td>objective_3220e474</td><td>RUNNING </td><td>172.28.0.2:3416</td><td style=\"text-align: right;\">0.000525679</td><td style=\"text-align: right;\">  0.185626</td></tr>\n",
              "</tbody>\n",
              "</table><br><br>"
            ]
          },
          "metadata": {}
        },
        {
          "output_type": "display_data",
          "data": {
            "text/plain": [
              "<IPython.core.display.HTML object>"
            ],
            "text/html": [
              "== Status ==<br>Current time: 2022-06-04 16:20:53 (running for 00:00:47.50)<br>Memory usage on this node: 2.6/25.5 GiB<br>Using FIFO scheduling algorithm.<br>Resources requested: 1.0/4 CPUs, 0/0 GPUs, 0.0/15.01 GiB heap, 0.0/7.51 GiB objects<br>Result logdir: /root/ray_results/objective_2022-06-04_16-20-06<br>Number of trials: 1/1 (1 RUNNING)<br><table>\n",
              "<thead>\n",
              "<tr><th>Trial name        </th><th>status  </th><th>loc            </th><th style=\"text-align: right;\">         lr</th><th style=\"text-align: right;\">  momentum</th></tr>\n",
              "</thead>\n",
              "<tbody>\n",
              "<tr><td>objective_3220e474</td><td>RUNNING </td><td>172.28.0.2:3416</td><td style=\"text-align: right;\">0.000525679</td><td style=\"text-align: right;\">  0.185626</td></tr>\n",
              "</tbody>\n",
              "</table><br><br>"
            ]
          },
          "metadata": {}
        },
        {
          "output_type": "display_data",
          "data": {
            "text/plain": [
              "<IPython.core.display.HTML object>"
            ],
            "text/html": [
              "== Status ==<br>Current time: 2022-06-04 16:20:58 (running for 00:00:52.51)<br>Memory usage on this node: 2.5/25.5 GiB<br>Using FIFO scheduling algorithm.<br>Resources requested: 1.0/4 CPUs, 0/0 GPUs, 0.0/15.01 GiB heap, 0.0/7.51 GiB objects<br>Result logdir: /root/ray_results/objective_2022-06-04_16-20-06<br>Number of trials: 1/1 (1 RUNNING)<br><table>\n",
              "<thead>\n",
              "<tr><th>Trial name        </th><th>status  </th><th>loc            </th><th style=\"text-align: right;\">         lr</th><th style=\"text-align: right;\">  momentum</th></tr>\n",
              "</thead>\n",
              "<tbody>\n",
              "<tr><td>objective_3220e474</td><td>RUNNING </td><td>172.28.0.2:3416</td><td style=\"text-align: right;\">0.000525679</td><td style=\"text-align: right;\">  0.185626</td></tr>\n",
              "</tbody>\n",
              "</table><br><br>"
            ]
          },
          "metadata": {}
        },
        {
          "output_type": "display_data",
          "data": {
            "text/plain": [
              "<IPython.core.display.HTML object>"
            ],
            "text/html": [
              "== Status ==<br>Current time: 2022-06-04 16:21:03 (running for 00:00:57.52)<br>Memory usage on this node: 2.5/25.5 GiB<br>Using FIFO scheduling algorithm.<br>Resources requested: 1.0/4 CPUs, 0/0 GPUs, 0.0/15.01 GiB heap, 0.0/7.51 GiB objects<br>Result logdir: /root/ray_results/objective_2022-06-04_16-20-06<br>Number of trials: 1/1 (1 RUNNING)<br><table>\n",
              "<thead>\n",
              "<tr><th>Trial name        </th><th>status  </th><th>loc            </th><th style=\"text-align: right;\">         lr</th><th style=\"text-align: right;\">  momentum</th></tr>\n",
              "</thead>\n",
              "<tbody>\n",
              "<tr><td>objective_3220e474</td><td>RUNNING </td><td>172.28.0.2:3416</td><td style=\"text-align: right;\">0.000525679</td><td style=\"text-align: right;\">  0.185626</td></tr>\n",
              "</tbody>\n",
              "</table><br><br>"
            ]
          },
          "metadata": {}
        },
        {
          "output_type": "display_data",
          "data": {
            "text/plain": [
              "<IPython.core.display.HTML object>"
            ],
            "text/html": [
              "== Status ==<br>Current time: 2022-06-04 16:21:08 (running for 00:01:02.53)<br>Memory usage on this node: 2.5/25.5 GiB<br>Using FIFO scheduling algorithm.<br>Resources requested: 1.0/4 CPUs, 0/0 GPUs, 0.0/15.01 GiB heap, 0.0/7.51 GiB objects<br>Result logdir: /root/ray_results/objective_2022-06-04_16-20-06<br>Number of trials: 1/1 (1 RUNNING)<br><table>\n",
              "<thead>\n",
              "<tr><th>Trial name        </th><th>status  </th><th>loc            </th><th style=\"text-align: right;\">         lr</th><th style=\"text-align: right;\">  momentum</th></tr>\n",
              "</thead>\n",
              "<tbody>\n",
              "<tr><td>objective_3220e474</td><td>RUNNING </td><td>172.28.0.2:3416</td><td style=\"text-align: right;\">0.000525679</td><td style=\"text-align: right;\">  0.185626</td></tr>\n",
              "</tbody>\n",
              "</table><br><br>"
            ]
          },
          "metadata": {}
        },
        {
          "output_type": "display_data",
          "data": {
            "text/plain": [
              "<IPython.core.display.HTML object>"
            ],
            "text/html": [
              "== Status ==<br>Current time: 2022-06-04 16:21:13 (running for 00:01:07.54)<br>Memory usage on this node: 2.5/25.5 GiB<br>Using FIFO scheduling algorithm.<br>Resources requested: 1.0/4 CPUs, 0/0 GPUs, 0.0/15.01 GiB heap, 0.0/7.51 GiB objects<br>Result logdir: /root/ray_results/objective_2022-06-04_16-20-06<br>Number of trials: 1/1 (1 RUNNING)<br><table>\n",
              "<thead>\n",
              "<tr><th>Trial name        </th><th>status  </th><th>loc            </th><th style=\"text-align: right;\">         lr</th><th style=\"text-align: right;\">  momentum</th></tr>\n",
              "</thead>\n",
              "<tbody>\n",
              "<tr><td>objective_3220e474</td><td>RUNNING </td><td>172.28.0.2:3416</td><td style=\"text-align: right;\">0.000525679</td><td style=\"text-align: right;\">  0.185626</td></tr>\n",
              "</tbody>\n",
              "</table><br><br>"
            ]
          },
          "metadata": {}
        },
        {
          "output_type": "display_data",
          "data": {
            "text/plain": [
              "<IPython.core.display.HTML object>"
            ],
            "text/html": [
              "== Status ==<br>Current time: 2022-06-04 16:21:18 (running for 00:01:12.55)<br>Memory usage on this node: 2.5/25.5 GiB<br>Using FIFO scheduling algorithm.<br>Resources requested: 1.0/4 CPUs, 0/0 GPUs, 0.0/15.01 GiB heap, 0.0/7.51 GiB objects<br>Result logdir: /root/ray_results/objective_2022-06-04_16-20-06<br>Number of trials: 1/1 (1 RUNNING)<br><table>\n",
              "<thead>\n",
              "<tr><th>Trial name        </th><th>status  </th><th>loc            </th><th style=\"text-align: right;\">         lr</th><th style=\"text-align: right;\">  momentum</th></tr>\n",
              "</thead>\n",
              "<tbody>\n",
              "<tr><td>objective_3220e474</td><td>RUNNING </td><td>172.28.0.2:3416</td><td style=\"text-align: right;\">0.000525679</td><td style=\"text-align: right;\">  0.185626</td></tr>\n",
              "</tbody>\n",
              "</table><br><br>"
            ]
          },
          "metadata": {}
        },
        {
          "output_type": "display_data",
          "data": {
            "text/plain": [
              "<IPython.core.display.HTML object>"
            ],
            "text/html": [
              "== Status ==<br>Current time: 2022-06-04 16:21:23 (running for 00:01:17.55)<br>Memory usage on this node: 2.5/25.5 GiB<br>Using FIFO scheduling algorithm.<br>Resources requested: 1.0/4 CPUs, 0/0 GPUs, 0.0/15.01 GiB heap, 0.0/7.51 GiB objects<br>Result logdir: /root/ray_results/objective_2022-06-04_16-20-06<br>Number of trials: 1/1 (1 RUNNING)<br><table>\n",
              "<thead>\n",
              "<tr><th>Trial name        </th><th>status  </th><th>loc            </th><th style=\"text-align: right;\">         lr</th><th style=\"text-align: right;\">  momentum</th></tr>\n",
              "</thead>\n",
              "<tbody>\n",
              "<tr><td>objective_3220e474</td><td>RUNNING </td><td>172.28.0.2:3416</td><td style=\"text-align: right;\">0.000525679</td><td style=\"text-align: right;\">  0.185626</td></tr>\n",
              "</tbody>\n",
              "</table><br><br>"
            ]
          },
          "metadata": {}
        },
        {
          "output_type": "display_data",
          "data": {
            "text/plain": [
              "<IPython.core.display.HTML object>"
            ],
            "text/html": [
              "== Status ==<br>Current time: 2022-06-04 16:21:28 (running for 00:01:22.56)<br>Memory usage on this node: 2.5/25.5 GiB<br>Using FIFO scheduling algorithm.<br>Resources requested: 1.0/4 CPUs, 0/0 GPUs, 0.0/15.01 GiB heap, 0.0/7.51 GiB objects<br>Result logdir: /root/ray_results/objective_2022-06-04_16-20-06<br>Number of trials: 1/1 (1 RUNNING)<br><table>\n",
              "<thead>\n",
              "<tr><th>Trial name        </th><th>status  </th><th>loc            </th><th style=\"text-align: right;\">         lr</th><th style=\"text-align: right;\">  momentum</th></tr>\n",
              "</thead>\n",
              "<tbody>\n",
              "<tr><td>objective_3220e474</td><td>RUNNING </td><td>172.28.0.2:3416</td><td style=\"text-align: right;\">0.000525679</td><td style=\"text-align: right;\">  0.185626</td></tr>\n",
              "</tbody>\n",
              "</table><br><br>"
            ]
          },
          "metadata": {}
        },
        {
          "output_type": "display_data",
          "data": {
            "text/plain": [
              "<IPython.core.display.HTML object>"
            ],
            "text/html": [
              "== Status ==<br>Current time: 2022-06-04 16:21:33 (running for 00:01:27.57)<br>Memory usage on this node: 2.5/25.5 GiB<br>Using FIFO scheduling algorithm.<br>Resources requested: 1.0/4 CPUs, 0/0 GPUs, 0.0/15.01 GiB heap, 0.0/7.51 GiB objects<br>Result logdir: /root/ray_results/objective_2022-06-04_16-20-06<br>Number of trials: 1/1 (1 RUNNING)<br><table>\n",
              "<thead>\n",
              "<tr><th>Trial name        </th><th>status  </th><th>loc            </th><th style=\"text-align: right;\">         lr</th><th style=\"text-align: right;\">  momentum</th></tr>\n",
              "</thead>\n",
              "<tbody>\n",
              "<tr><td>objective_3220e474</td><td>RUNNING </td><td>172.28.0.2:3416</td><td style=\"text-align: right;\">0.000525679</td><td style=\"text-align: right;\">  0.185626</td></tr>\n",
              "</tbody>\n",
              "</table><br><br>"
            ]
          },
          "metadata": {}
        },
        {
          "output_type": "display_data",
          "data": {
            "text/plain": [
              "<IPython.core.display.HTML object>"
            ],
            "text/html": [
              "== Status ==<br>Current time: 2022-06-04 16:21:38 (running for 00:01:32.57)<br>Memory usage on this node: 2.5/25.5 GiB<br>Using FIFO scheduling algorithm.<br>Resources requested: 1.0/4 CPUs, 0/0 GPUs, 0.0/15.01 GiB heap, 0.0/7.51 GiB objects<br>Result logdir: /root/ray_results/objective_2022-06-04_16-20-06<br>Number of trials: 1/1 (1 RUNNING)<br><table>\n",
              "<thead>\n",
              "<tr><th>Trial name        </th><th>status  </th><th>loc            </th><th style=\"text-align: right;\">         lr</th><th style=\"text-align: right;\">  momentum</th></tr>\n",
              "</thead>\n",
              "<tbody>\n",
              "<tr><td>objective_3220e474</td><td>RUNNING </td><td>172.28.0.2:3416</td><td style=\"text-align: right;\">0.000525679</td><td style=\"text-align: right;\">  0.185626</td></tr>\n",
              "</tbody>\n",
              "</table><br><br>"
            ]
          },
          "metadata": {}
        },
        {
          "output_type": "stream",
          "name": "stdout",
          "text": [
            "\u001b[2m\u001b[36m(objective pid=3416)\u001b[0m 0: \"train loss:\"0.71218, \"train acc: \"0.52644\n"
          ]
        },
        {
          "output_type": "display_data",
          "data": {
            "text/plain": [
              "<IPython.core.display.HTML object>"
            ],
            "text/html": [
              "== Status ==<br>Current time: 2022-06-04 16:21:43 (running for 00:01:37.58)<br>Memory usage on this node: 2.5/25.5 GiB<br>Using FIFO scheduling algorithm.<br>Resources requested: 1.0/4 CPUs, 0/0 GPUs, 0.0/15.01 GiB heap, 0.0/7.51 GiB objects<br>Result logdir: /root/ray_results/objective_2022-06-04_16-20-06<br>Number of trials: 1/1 (1 RUNNING)<br><table>\n",
              "<thead>\n",
              "<tr><th>Trial name        </th><th>status  </th><th>loc            </th><th style=\"text-align: right;\">         lr</th><th style=\"text-align: right;\">  momentum</th></tr>\n",
              "</thead>\n",
              "<tbody>\n",
              "<tr><td>objective_3220e474</td><td>RUNNING </td><td>172.28.0.2:3416</td><td style=\"text-align: right;\">0.000525679</td><td style=\"text-align: right;\">  0.185626</td></tr>\n",
              "</tbody>\n",
              "</table><br><br>"
            ]
          },
          "metadata": {}
        },
        {
          "output_type": "display_data",
          "data": {
            "text/plain": [
              "<IPython.core.display.HTML object>"
            ],
            "text/html": [
              "== Status ==<br>Current time: 2022-06-04 16:21:48 (running for 00:01:42.58)<br>Memory usage on this node: 2.6/25.5 GiB<br>Using FIFO scheduling algorithm.<br>Resources requested: 1.0/4 CPUs, 0/0 GPUs, 0.0/15.01 GiB heap, 0.0/7.51 GiB objects<br>Result logdir: /root/ray_results/objective_2022-06-04_16-20-06<br>Number of trials: 1/1 (1 RUNNING)<br><table>\n",
              "<thead>\n",
              "<tr><th>Trial name        </th><th>status  </th><th>loc            </th><th style=\"text-align: right;\">         lr</th><th style=\"text-align: right;\">  momentum</th></tr>\n",
              "</thead>\n",
              "<tbody>\n",
              "<tr><td>objective_3220e474</td><td>RUNNING </td><td>172.28.0.2:3416</td><td style=\"text-align: right;\">0.000525679</td><td style=\"text-align: right;\">  0.185626</td></tr>\n",
              "</tbody>\n",
              "</table><br><br>"
            ]
          },
          "metadata": {}
        },
        {
          "output_type": "display_data",
          "data": {
            "text/plain": [
              "<IPython.core.display.HTML object>"
            ],
            "text/html": [
              "== Status ==<br>Current time: 2022-06-04 16:21:53 (running for 00:01:47.59)<br>Memory usage on this node: 2.5/25.5 GiB<br>Using FIFO scheduling algorithm.<br>Resources requested: 1.0/4 CPUs, 0/0 GPUs, 0.0/15.01 GiB heap, 0.0/7.51 GiB objects<br>Result logdir: /root/ray_results/objective_2022-06-04_16-20-06<br>Number of trials: 1/1 (1 RUNNING)<br><table>\n",
              "<thead>\n",
              "<tr><th>Trial name        </th><th>status  </th><th>loc            </th><th style=\"text-align: right;\">         lr</th><th style=\"text-align: right;\">  momentum</th></tr>\n",
              "</thead>\n",
              "<tbody>\n",
              "<tr><td>objective_3220e474</td><td>RUNNING </td><td>172.28.0.2:3416</td><td style=\"text-align: right;\">0.000525679</td><td style=\"text-align: right;\">  0.185626</td></tr>\n",
              "</tbody>\n",
              "</table><br><br>"
            ]
          },
          "metadata": {}
        },
        {
          "output_type": "display_data",
          "data": {
            "text/plain": [
              "<IPython.core.display.HTML object>"
            ],
            "text/html": [
              "== Status ==<br>Current time: 2022-06-04 16:21:58 (running for 00:01:52.60)<br>Memory usage on this node: 2.5/25.5 GiB<br>Using FIFO scheduling algorithm.<br>Resources requested: 1.0/4 CPUs, 0/0 GPUs, 0.0/15.01 GiB heap, 0.0/7.51 GiB objects<br>Result logdir: /root/ray_results/objective_2022-06-04_16-20-06<br>Number of trials: 1/1 (1 RUNNING)<br><table>\n",
              "<thead>\n",
              "<tr><th>Trial name        </th><th>status  </th><th>loc            </th><th style=\"text-align: right;\">         lr</th><th style=\"text-align: right;\">  momentum</th></tr>\n",
              "</thead>\n",
              "<tbody>\n",
              "<tr><td>objective_3220e474</td><td>RUNNING </td><td>172.28.0.2:3416</td><td style=\"text-align: right;\">0.000525679</td><td style=\"text-align: right;\">  0.185626</td></tr>\n",
              "</tbody>\n",
              "</table><br><br>"
            ]
          },
          "metadata": {}
        },
        {
          "output_type": "display_data",
          "data": {
            "text/plain": [
              "<IPython.core.display.HTML object>"
            ],
            "text/html": [
              "== Status ==<br>Current time: 2022-06-04 16:22:03 (running for 00:01:57.60)<br>Memory usage on this node: 2.5/25.5 GiB<br>Using FIFO scheduling algorithm.<br>Resources requested: 1.0/4 CPUs, 0/0 GPUs, 0.0/15.01 GiB heap, 0.0/7.51 GiB objects<br>Result logdir: /root/ray_results/objective_2022-06-04_16-20-06<br>Number of trials: 1/1 (1 RUNNING)<br><table>\n",
              "<thead>\n",
              "<tr><th>Trial name        </th><th>status  </th><th>loc            </th><th style=\"text-align: right;\">         lr</th><th style=\"text-align: right;\">  momentum</th></tr>\n",
              "</thead>\n",
              "<tbody>\n",
              "<tr><td>objective_3220e474</td><td>RUNNING </td><td>172.28.0.2:3416</td><td style=\"text-align: right;\">0.000525679</td><td style=\"text-align: right;\">  0.185626</td></tr>\n",
              "</tbody>\n",
              "</table><br><br>"
            ]
          },
          "metadata": {}
        },
        {
          "output_type": "display_data",
          "data": {
            "text/plain": [
              "<IPython.core.display.HTML object>"
            ],
            "text/html": [
              "== Status ==<br>Current time: 2022-06-04 16:22:08 (running for 00:02:02.61)<br>Memory usage on this node: 2.5/25.5 GiB<br>Using FIFO scheduling algorithm.<br>Resources requested: 1.0/4 CPUs, 0/0 GPUs, 0.0/15.01 GiB heap, 0.0/7.51 GiB objects<br>Result logdir: /root/ray_results/objective_2022-06-04_16-20-06<br>Number of trials: 1/1 (1 RUNNING)<br><table>\n",
              "<thead>\n",
              "<tr><th>Trial name        </th><th>status  </th><th>loc            </th><th style=\"text-align: right;\">         lr</th><th style=\"text-align: right;\">  momentum</th></tr>\n",
              "</thead>\n",
              "<tbody>\n",
              "<tr><td>objective_3220e474</td><td>RUNNING </td><td>172.28.0.2:3416</td><td style=\"text-align: right;\">0.000525679</td><td style=\"text-align: right;\">  0.185626</td></tr>\n",
              "</tbody>\n",
              "</table><br><br>"
            ]
          },
          "metadata": {}
        },
        {
          "output_type": "display_data",
          "data": {
            "text/plain": [
              "<IPython.core.display.HTML object>"
            ],
            "text/html": [
              "== Status ==<br>Current time: 2022-06-04 16:22:13 (running for 00:02:07.62)<br>Memory usage on this node: 2.5/25.5 GiB<br>Using FIFO scheduling algorithm.<br>Resources requested: 1.0/4 CPUs, 0/0 GPUs, 0.0/15.01 GiB heap, 0.0/7.51 GiB objects<br>Result logdir: /root/ray_results/objective_2022-06-04_16-20-06<br>Number of trials: 1/1 (1 RUNNING)<br><table>\n",
              "<thead>\n",
              "<tr><th>Trial name        </th><th>status  </th><th>loc            </th><th style=\"text-align: right;\">         lr</th><th style=\"text-align: right;\">  momentum</th></tr>\n",
              "</thead>\n",
              "<tbody>\n",
              "<tr><td>objective_3220e474</td><td>RUNNING </td><td>172.28.0.2:3416</td><td style=\"text-align: right;\">0.000525679</td><td style=\"text-align: right;\">  0.185626</td></tr>\n",
              "</tbody>\n",
              "</table><br><br>"
            ]
          },
          "metadata": {}
        },
        {
          "output_type": "display_data",
          "data": {
            "text/plain": [
              "<IPython.core.display.HTML object>"
            ],
            "text/html": [
              "== Status ==<br>Current time: 2022-06-04 16:22:18 (running for 00:02:12.62)<br>Memory usage on this node: 2.6/25.5 GiB<br>Using FIFO scheduling algorithm.<br>Resources requested: 1.0/4 CPUs, 0/0 GPUs, 0.0/15.01 GiB heap, 0.0/7.51 GiB objects<br>Result logdir: /root/ray_results/objective_2022-06-04_16-20-06<br>Number of trials: 1/1 (1 RUNNING)<br><table>\n",
              "<thead>\n",
              "<tr><th>Trial name        </th><th>status  </th><th>loc            </th><th style=\"text-align: right;\">         lr</th><th style=\"text-align: right;\">  momentum</th></tr>\n",
              "</thead>\n",
              "<tbody>\n",
              "<tr><td>objective_3220e474</td><td>RUNNING </td><td>172.28.0.2:3416</td><td style=\"text-align: right;\">0.000525679</td><td style=\"text-align: right;\">  0.185626</td></tr>\n",
              "</tbody>\n",
              "</table><br><br>"
            ]
          },
          "metadata": {}
        },
        {
          "output_type": "display_data",
          "data": {
            "text/plain": [
              "<IPython.core.display.HTML object>"
            ],
            "text/html": [
              "== Status ==<br>Current time: 2022-06-04 16:22:23 (running for 00:02:17.63)<br>Memory usage on this node: 2.5/25.5 GiB<br>Using FIFO scheduling algorithm.<br>Resources requested: 1.0/4 CPUs, 0/0 GPUs, 0.0/15.01 GiB heap, 0.0/7.51 GiB objects<br>Result logdir: /root/ray_results/objective_2022-06-04_16-20-06<br>Number of trials: 1/1 (1 RUNNING)<br><table>\n",
              "<thead>\n",
              "<tr><th>Trial name        </th><th>status  </th><th>loc            </th><th style=\"text-align: right;\">         lr</th><th style=\"text-align: right;\">  momentum</th></tr>\n",
              "</thead>\n",
              "<tbody>\n",
              "<tr><td>objective_3220e474</td><td>RUNNING </td><td>172.28.0.2:3416</td><td style=\"text-align: right;\">0.000525679</td><td style=\"text-align: right;\">  0.185626</td></tr>\n",
              "</tbody>\n",
              "</table><br><br>"
            ]
          },
          "metadata": {}
        }
      ],
      "source": [
        "\n",
        "\n",
        "    #scheduler 추가 및 step 추가\n",
        "path = \"/content/drive/MyDrive/models/\"\n",
        "MODEL = \"06040204 eff4\"\n",
        "\n",
        "def objective(config):\n",
        "  model = MnistModel().to(device)\n",
        "  base_optimizer = torch.optim.SGD \n",
        "  optimizer = SAM(model.parameters(), base_optimizer, lr=config[\"lr\"], momentum=config[\"momentum\"])\n",
        "  trainset = MnistDataset('/content/drive/MyDrive/Train image2', '/content/drive/MyDrive/multi-mnist zipfile/dirty_mnist_2nd_answer.csv', transforms_train)\n",
        "\n",
        "  lengths = [int(len(trainset)*0.8), int(len(trainset)*0.2)]\n",
        "\n",
        "  train_dataset, valid_dataset = torch.utils.data.random_split(trainset, lengths)\n",
        "\n",
        "  train_loader = DataLoader(train_dataset, batch_size=16, num_workers=2)\n",
        "  valid_loader = DataLoader(valid_dataset, batch_size=8, num_workers=2)\n",
        "  lr_scheduler = torch.optim.lr_scheduler.CosineAnnealingWarmRestarts(optimizer, T_0=10, T_mult=1, eta_min=0.001, last_epoch=-1)   \n",
        "  num_epochs = 20\n",
        "  criterion = nn.MultiLabelSoftMarginLoss()\n",
        "  while True:\n",
        "      for epoch in range(num_epochs):\n",
        "        model.train()\n",
        "        for i, (images, targets) in enumerate(train_loader):\n",
        "          optimizer.zero_grad()\n",
        "\n",
        "          images = images.to(device)\n",
        "          targets = targets.to(device)\n",
        "\n",
        "          outputs = model(images)\n",
        "          loss = criterion(outputs, targets)\n",
        "\n",
        "          loss.backward()\n",
        "          optimizer.first_step(zero_grad=True)\n",
        "          criterion(model(images), targets).backward()\n",
        "          optimizer.second_step(zero_grad=True)\n",
        "\n",
        "          if (i+1) % 10 == 0:\n",
        "              outputs = outputs > 0.5\n",
        "              acc = (outputs == targets).cpu().float().mean()\n",
        "              print(f'{epoch}: \"train loss:\"{loss.item():.5f}, \"train acc: \"{acc.item():.5f}')\n",
        "        model.eval()\n",
        "        with torch.no_grad():\n",
        "          for i, (images, targets) in enumerate(valid_loader):\n",
        "\n",
        "              images = images.to(device)\n",
        "              targets = targets.to(device)\n",
        "\n",
        "              outputs = model(images)\n",
        "              valid_loss = criterion(outputs, targets)\n",
        "      \n",
        "              if (i+1) % 10 == 0:\n",
        "                  outputs = outputs > 0.5\n",
        "                  valid_acc = (outputs == targets).cpu().float().mean()\n",
        "                  print(f'{epoch}: \"val loss:\"{valid_loss.item():.5f}, \"val acc: \"{valid_acc.item():.5f}')\n",
        "      lr_scheduler.step()\n",
        "      torch.save(model.state_dict(), f'{path}_{MODEL}_1.pth')\n",
        "      tune.report(mean_accuracy=acc)  # Report to Tune\n",
        "\n",
        "\n",
        "\n",
        "search_space = {\"lr\": tune.loguniform(1e-4, 1e-2), \"momentum\": tune.uniform(0.1, 0.9)}\n",
        "algo = OptunaSearch()\n",
        "\n",
        "# 3. Start a Tune run that maximizes mean accuracy and stops after 5 iterations.\n",
        "analysis = tune.run(\n",
        "    objective,\n",
        "    metric=\"mean_accuracy\",\n",
        "    mode=\"max\",\n",
        "    search_alg=algo,\n",
        "    stop={\"training_iteration\": 5},\n",
        "    config=search_space,\n",
        ")\n",
        "print(\"Best config is:\", analysis.best_config)"
      ]
    },
    {
      "cell_type": "code",
      "execution_count": null,
      "metadata": {
        "id": "eL0SuxUHUirr"
      },
      "outputs": [],
      "source": [
        "import matplotlib.pyplot as plt\n",
        "\n",
        "\n",
        "plt.plot(train_acc_list,color='#e35f62', label='Train Acc')\n",
        "\n",
        "plt.xlabel('Acc')\n",
        "plt.ylabel('Epoch')\n",
        "plt.title('Train')\n",
        "plt.show()"
      ]
    },
    {
      "cell_type": "code",
      "execution_count": null,
      "metadata": {
        "id": "C67CRy0gHUiG"
      },
      "outputs": [],
      "source": [
        "plt.plot(valid_acc_list,color='green', label='Valid Acc')\n",
        "plt.xlabel('Acc')\n",
        "plt.ylabel('Epoch')\n",
        "plt.title('Valid')\n",
        "plt.show()"
      ]
    },
    {
      "cell_type": "markdown",
      "metadata": {
        "id": "kQacbQTr_5jh"
      },
      "source": [
        "# 기록\n",
        "1번 \n",
        "lr=1e-3\n",
        "\n",
        "1.   optimizer : Adam\n",
        "2.   scheduler : CosineAnnealingLR\n",
        "3.   criterition:MultiLabelSoftMarginLoss\n",
        "\n",
        "\n",
        "```\n",
        "9: \"val loss:\"0.57146, \"val acc: \"0.67067\n",
        "9: \"val loss:\"0.56269, \"val acc: \"0.67788\n",
        "9: \"val loss:\"0.56572, \"val acc: \"0.67308\n",
        "9: \"val loss:\"0.57164, \"val acc: \"0.66827\n",
        "9: \"val loss:\"0.54050, \"val acc: \"0.73077\n",
        "9: \"val loss:\"0.56166, \"val acc: \"0.66106\n",
        "9: \"val loss:\"0.53295, \"val acc: \"0.68990\n",
        "9: \"val loss:\"0.55628, \"val acc: \"0.68990\n",
        "9: \"val loss:\"0.52732, \"val acc: \"0.71394\n",
        "```\n",
        "\n",
        "2번\n",
        "1번과 같지만 모델이 efficientnet_b5 훨씬 효능이 좋다. \n",
        "\n",
        "```\n",
        "8: \"val loss:\"0.35732, \"val acc: \"0.83654\n",
        "8: \"val loss:\"0.40119, \"val acc: \"0.81250\n",
        "8: \"val loss:\"0.44620, \"val acc: \"0.77885\n",
        "8: \"val loss:\"0.38490, \"val acc: \"0.83173\n",
        "8: \"val loss:\"0.45323, \"val acc: \"0.81250\n",
        "8: \"val loss:\"0.48173, \"val acc: \"0.81731\n",
        "8: \"val loss:\"0.41693, \"val acc: \"0.81250\n",
        "8: \"val loss:\"0.36138, \"val acc: \"0.85577\n",
        "8: \"val loss:\"0.32753, \"val acc: \"0.85096\n",
        "8: \"val loss:\"0.39352, \"val acc: \"0.84615\n",
        "8: \"val loss:\"0.41519, \"val acc: \"0.81731\n",
        "8: \"val loss:\"0.39349, \"val acc: \"0.80769\n",
        "8: \"val loss:\"0.40276, \"val acc: \"0.82692\n",
        "8: \"val loss:\"0.40279, \"val acc: \"0.80288\n",
        "8: \"val loss:\"0.38277, \"val acc: \"0.82692\n",
        "8: \"val loss:\"0.35343, \"val acc: \"0.85577\n",
        "```\n"
      ]
    }
  ],
  "metadata": {
    "colab": {
      "collapsed_sections": [],
      "machine_shape": "hm",
      "name": "파이토치를_이용한 정말 간단한 Multi-Label Classification.ipynb의 사본",
      "provenance": [],
      "include_colab_link": true
    },
    "kernelspec": {
      "display_name": "Python 3",
      "language": "python",
      "name": "python3"
    },
    "language_info": {
      "codemirror_mode": {
        "name": "ipython",
        "version": 3
      },
      "file_extension": ".py",
      "mimetype": "text/x-python",
      "name": "python",
      "nbconvert_exporter": "python",
      "pygments_lexer": "ipython3",
      "version": "3.7.9-final"
    }
  },
  "nbformat": 4,
  "nbformat_minor": 0
}