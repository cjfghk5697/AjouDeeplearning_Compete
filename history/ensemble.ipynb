{
  "nbformat": 4,
  "nbformat_minor": 0,
  "metadata": {
    "colab": {
      "name": "ensemble.ipynb",
      "provenance": [],
      "authorship_tag": "ABX9TyMFO03mjJoDvMf08ZOccN5b",
      "include_colab_link": true
    },
    "kernelspec": {
      "name": "python3",
      "display_name": "Python 3"
    },
    "language_info": {
      "name": "python"
    }
  },
  "cells": [
    {
      "cell_type": "markdown",
      "metadata": {
        "id": "view-in-github",
        "colab_type": "text"
      },
      "source": [
        "<a href=\"https://colab.research.google.com/github/cjfghk5697/AjouDeeplearning_Compete/blob/main/ensemble.ipynb\" target=\"_parent\"><img src=\"https://colab.research.google.com/assets/colab-badge.svg\" alt=\"Open In Colab\"/></a>"
      ]
    },
    {
      "cell_type": "code",
      "metadata": {
        "id": "fEpJP261gc6X"
      },
      "source": [
        "import torch.nn as nn\n",
        "import torch\n",
        "\n",
        "class Ensemble(nn.Module):\n",
        "  def __init__(self, modelA, modelB, modelC, input):\n",
        "    super(MyEnsemble, self).__init__()\n",
        "    self.modelA=modelA\n",
        "    self.modelB=modelB\n",
        "    self.modelC=modelc\n",
        "\n",
        "    self.fc1=nn.linear(input,50)\n",
        "  def forward(self, x):\n",
        "    out1=self.modelA(x)\n",
        "    out2=self.modelB(x)\n",
        "    out3-self.modelC(x)\n",
        "\n",
        "    out=out1+out2+out3\n",
        "\n",
        "    x= self.fc1(out)\n",
        "    return torch.softmax(x, dim=1)"
      ],
      "execution_count": null,
      "outputs": []
    },
    {
      "cell_type": "code",
      "metadata": {
        "id": "aQSZmTEfgmE4"
      },
      "source": [
        "model=Ensemble(densenet,resnet,incept,50)"
      ],
      "execution_count": null,
      "outputs": []
    },
    {
      "cell_type": "code",
      "metadata": {
        "id": "qnKLJ7y5gqrG"
      },
      "source": [
        "model.to(device)\n",
        "optimizer=optim.Adam(model.parameters(),lr=1e-3)\n",
        "\n",
        "scheduler=optim.lr_scheduler.SterpLR(optimizer, step_size=3, gamma=0.1)"
      ],
      "execution_count": null,
      "outputs": []
    },
    {
      "cell_type": "code",
      "metadata": {
        "id": "qjcLx6q9gupT"
      },
      "source": [
        "model, train_loss, test_loss = Helper.train(model, train_loader, test_loader, epoch, optimeizer, criterion)"
      ],
      "execution_count": null,
      "outputs": []
    }
  ]
}