{
  "nbformat": 4,
  "nbformat_minor": 0,
  "metadata": {
    "colab": {
      "name": "Enssanble(multi-mnist).ipynb",
      "provenance": [],
      "collapsed_sections": [],
      "machine_shape": "hm",
      "mount_file_id": "1pLdHp2JZOFkAmfBWKnXJxdRcNntZCfvV",
      "authorship_tag": "ABX9TyM09tHO+dq/wzsqjJCP2bEh",
      "include_colab_link": true
    },
    "kernelspec": {
      "name": "python3",
      "display_name": "Python 3"
    },
    "language_info": {
      "name": "python"
    },
    "accelerator": "GPU",
    "widgets": {
      "application/vnd.jupyter.widget-state+json": {
        "d55c4ce5a28f45699a93368324dc6b1b": {
          "model_module": "@jupyter-widgets/controls",
          "model_name": "HBoxModel",
          "model_module_version": "1.5.0",
          "state": {
            "_dom_classes": [],
            "_model_module": "@jupyter-widgets/controls",
            "_model_module_version": "1.5.0",
            "_model_name": "HBoxModel",
            "_view_count": null,
            "_view_module": "@jupyter-widgets/controls",
            "_view_module_version": "1.5.0",
            "_view_name": "HBoxView",
            "box_style": "",
            "children": [
              "IPY_MODEL_57778fc7d3e04645a71ba8361ca7f558",
              "IPY_MODEL_e643b34ac6fa465e89361ab859170a43",
              "IPY_MODEL_ddca0042d35e43cea862a973db54ba43"
            ],
            "layout": "IPY_MODEL_8292b6ca8d3c4236b3498cdd97c0e4c4"
          }
        },
        "57778fc7d3e04645a71ba8361ca7f558": {
          "model_module": "@jupyter-widgets/controls",
          "model_name": "HTMLModel",
          "model_module_version": "1.5.0",
          "state": {
            "_dom_classes": [],
            "_model_module": "@jupyter-widgets/controls",
            "_model_module_version": "1.5.0",
            "_model_name": "HTMLModel",
            "_view_count": null,
            "_view_module": "@jupyter-widgets/controls",
            "_view_module_version": "1.5.0",
            "_view_name": "HTMLView",
            "description": "",
            "description_tooltip": null,
            "layout": "IPY_MODEL_4814bd36f9354ff4a9333d13321c867c",
            "placeholder": "​",
            "style": "IPY_MODEL_b6361e1dbc764506b109c3f3dabfb0f3",
            "value": "100%"
          }
        },
        "e643b34ac6fa465e89361ab859170a43": {
          "model_module": "@jupyter-widgets/controls",
          "model_name": "FloatProgressModel",
          "model_module_version": "1.5.0",
          "state": {
            "_dom_classes": [],
            "_model_module": "@jupyter-widgets/controls",
            "_model_module_version": "1.5.0",
            "_model_name": "FloatProgressModel",
            "_view_count": null,
            "_view_module": "@jupyter-widgets/controls",
            "_view_module_version": "1.5.0",
            "_view_name": "ProgressView",
            "bar_style": "success",
            "description": "",
            "description_tooltip": null,
            "layout": "IPY_MODEL_eb2ccd5760024ddbb7501f8cf94e201d",
            "max": 49475909,
            "min": 0,
            "orientation": "horizontal",
            "style": "IPY_MODEL_cb1478890ea948eb90aea058ee1e1224",
            "value": 49475909
          }
        },
        "ddca0042d35e43cea862a973db54ba43": {
          "model_module": "@jupyter-widgets/controls",
          "model_name": "HTMLModel",
          "model_module_version": "1.5.0",
          "state": {
            "_dom_classes": [],
            "_model_module": "@jupyter-widgets/controls",
            "_model_module_version": "1.5.0",
            "_model_name": "HTMLModel",
            "_view_count": null,
            "_view_module": "@jupyter-widgets/controls",
            "_view_module_version": "1.5.0",
            "_view_name": "HTMLView",
            "description": "",
            "description_tooltip": null,
            "layout": "IPY_MODEL_821bd37ffdbe4bd6a93926c012d05112",
            "placeholder": "​",
            "style": "IPY_MODEL_1ce93d44556141f1b09f336cd3d36d35",
            "value": " 47.2M/47.2M [00:01&lt;00:00, 51.8MB/s]"
          }
        },
        "8292b6ca8d3c4236b3498cdd97c0e4c4": {
          "model_module": "@jupyter-widgets/base",
          "model_name": "LayoutModel",
          "model_module_version": "1.2.0",
          "state": {
            "_model_module": "@jupyter-widgets/base",
            "_model_module_version": "1.2.0",
            "_model_name": "LayoutModel",
            "_view_count": null,
            "_view_module": "@jupyter-widgets/base",
            "_view_module_version": "1.2.0",
            "_view_name": "LayoutView",
            "align_content": null,
            "align_items": null,
            "align_self": null,
            "border": null,
            "bottom": null,
            "display": null,
            "flex": null,
            "flex_flow": null,
            "grid_area": null,
            "grid_auto_columns": null,
            "grid_auto_flow": null,
            "grid_auto_rows": null,
            "grid_column": null,
            "grid_gap": null,
            "grid_row": null,
            "grid_template_areas": null,
            "grid_template_columns": null,
            "grid_template_rows": null,
            "height": null,
            "justify_content": null,
            "justify_items": null,
            "left": null,
            "margin": null,
            "max_height": null,
            "max_width": null,
            "min_height": null,
            "min_width": null,
            "object_fit": null,
            "object_position": null,
            "order": null,
            "overflow": null,
            "overflow_x": null,
            "overflow_y": null,
            "padding": null,
            "right": null,
            "top": null,
            "visibility": null,
            "width": null
          }
        },
        "4814bd36f9354ff4a9333d13321c867c": {
          "model_module": "@jupyter-widgets/base",
          "model_name": "LayoutModel",
          "model_module_version": "1.2.0",
          "state": {
            "_model_module": "@jupyter-widgets/base",
            "_model_module_version": "1.2.0",
            "_model_name": "LayoutModel",
            "_view_count": null,
            "_view_module": "@jupyter-widgets/base",
            "_view_module_version": "1.2.0",
            "_view_name": "LayoutView",
            "align_content": null,
            "align_items": null,
            "align_self": null,
            "border": null,
            "bottom": null,
            "display": null,
            "flex": null,
            "flex_flow": null,
            "grid_area": null,
            "grid_auto_columns": null,
            "grid_auto_flow": null,
            "grid_auto_rows": null,
            "grid_column": null,
            "grid_gap": null,
            "grid_row": null,
            "grid_template_areas": null,
            "grid_template_columns": null,
            "grid_template_rows": null,
            "height": null,
            "justify_content": null,
            "justify_items": null,
            "left": null,
            "margin": null,
            "max_height": null,
            "max_width": null,
            "min_height": null,
            "min_width": null,
            "object_fit": null,
            "object_position": null,
            "order": null,
            "overflow": null,
            "overflow_x": null,
            "overflow_y": null,
            "padding": null,
            "right": null,
            "top": null,
            "visibility": null,
            "width": null
          }
        },
        "b6361e1dbc764506b109c3f3dabfb0f3": {
          "model_module": "@jupyter-widgets/controls",
          "model_name": "DescriptionStyleModel",
          "model_module_version": "1.5.0",
          "state": {
            "_model_module": "@jupyter-widgets/controls",
            "_model_module_version": "1.5.0",
            "_model_name": "DescriptionStyleModel",
            "_view_count": null,
            "_view_module": "@jupyter-widgets/base",
            "_view_module_version": "1.2.0",
            "_view_name": "StyleView",
            "description_width": ""
          }
        },
        "eb2ccd5760024ddbb7501f8cf94e201d": {
          "model_module": "@jupyter-widgets/base",
          "model_name": "LayoutModel",
          "model_module_version": "1.2.0",
          "state": {
            "_model_module": "@jupyter-widgets/base",
            "_model_module_version": "1.2.0",
            "_model_name": "LayoutModel",
            "_view_count": null,
            "_view_module": "@jupyter-widgets/base",
            "_view_module_version": "1.2.0",
            "_view_name": "LayoutView",
            "align_content": null,
            "align_items": null,
            "align_self": null,
            "border": null,
            "bottom": null,
            "display": null,
            "flex": null,
            "flex_flow": null,
            "grid_area": null,
            "grid_auto_columns": null,
            "grid_auto_flow": null,
            "grid_auto_rows": null,
            "grid_column": null,
            "grid_gap": null,
            "grid_row": null,
            "grid_template_areas": null,
            "grid_template_columns": null,
            "grid_template_rows": null,
            "height": null,
            "justify_content": null,
            "justify_items": null,
            "left": null,
            "margin": null,
            "max_height": null,
            "max_width": null,
            "min_height": null,
            "min_width": null,
            "object_fit": null,
            "object_position": null,
            "order": null,
            "overflow": null,
            "overflow_x": null,
            "overflow_y": null,
            "padding": null,
            "right": null,
            "top": null,
            "visibility": null,
            "width": null
          }
        },
        "cb1478890ea948eb90aea058ee1e1224": {
          "model_module": "@jupyter-widgets/controls",
          "model_name": "ProgressStyleModel",
          "model_module_version": "1.5.0",
          "state": {
            "_model_module": "@jupyter-widgets/controls",
            "_model_module_version": "1.5.0",
            "_model_name": "ProgressStyleModel",
            "_view_count": null,
            "_view_module": "@jupyter-widgets/base",
            "_view_module_version": "1.2.0",
            "_view_name": "StyleView",
            "bar_color": null,
            "description_width": ""
          }
        },
        "821bd37ffdbe4bd6a93926c012d05112": {
          "model_module": "@jupyter-widgets/base",
          "model_name": "LayoutModel",
          "model_module_version": "1.2.0",
          "state": {
            "_model_module": "@jupyter-widgets/base",
            "_model_module_version": "1.2.0",
            "_model_name": "LayoutModel",
            "_view_count": null,
            "_view_module": "@jupyter-widgets/base",
            "_view_module_version": "1.2.0",
            "_view_name": "LayoutView",
            "align_content": null,
            "align_items": null,
            "align_self": null,
            "border": null,
            "bottom": null,
            "display": null,
            "flex": null,
            "flex_flow": null,
            "grid_area": null,
            "grid_auto_columns": null,
            "grid_auto_flow": null,
            "grid_auto_rows": null,
            "grid_column": null,
            "grid_gap": null,
            "grid_row": null,
            "grid_template_areas": null,
            "grid_template_columns": null,
            "grid_template_rows": null,
            "height": null,
            "justify_content": null,
            "justify_items": null,
            "left": null,
            "margin": null,
            "max_height": null,
            "max_width": null,
            "min_height": null,
            "min_width": null,
            "object_fit": null,
            "object_position": null,
            "order": null,
            "overflow": null,
            "overflow_x": null,
            "overflow_y": null,
            "padding": null,
            "right": null,
            "top": null,
            "visibility": null,
            "width": null
          }
        },
        "1ce93d44556141f1b09f336cd3d36d35": {
          "model_module": "@jupyter-widgets/controls",
          "model_name": "DescriptionStyleModel",
          "model_module_version": "1.5.0",
          "state": {
            "_model_module": "@jupyter-widgets/controls",
            "_model_module_version": "1.5.0",
            "_model_name": "DescriptionStyleModel",
            "_view_count": null,
            "_view_module": "@jupyter-widgets/base",
            "_view_module_version": "1.2.0",
            "_view_name": "StyleView",
            "description_width": ""
          }
        }
      }
    }
  },
  "cells": [
    {
      "cell_type": "markdown",
      "metadata": {
        "id": "view-in-github",
        "colab_type": "text"
      },
      "source": [
        "<a href=\"https://colab.research.google.com/github/cjfghk5697/AjouDeeplearning_Compete/blob/main/Inference(TTA%2BEnssanble).ipynb\" target=\"_parent\"><img src=\"https://colab.research.google.com/assets/colab-badge.svg\" alt=\"Open In Colab\"/></a>"
      ]
    },
    {
      "cell_type": "code",
      "source": [
        "%cd /content/drive/MyDrive/Test image2\n",
        "!unzip -qq \"/content/drive/MyDrive/multi-mnist zipfile/test_dirty_mnist_2nd.zip\""
      ],
      "metadata": {
        "colab": {
          "base_uri": "https://localhost:8080/"
        },
        "id": "hyGw1WXF7Ars",
        "outputId": "4dbca570-1ab5-49a0-b03a-f8389f6c8be2"
      },
      "execution_count": null,
      "outputs": [
        {
          "output_type": "stream",
          "name": "stdout",
          "text": [
            "/content/drive/MyDrive/Test image2\n"
          ]
        }
      ]
    },
    {
      "cell_type": "code",
      "source": [
        "import os\n",
        "from typing import Tuple, Sequence, Callable\n",
        "import csv\n",
        "import cv2\n",
        "import numpy as np\n",
        "import pandas as pd\n",
        "import torch\n",
        "from torch import nn, Tensor\n",
        "from torch.utils.data import Dataset, DataLoader\n",
        "from torchvision import transforms\n",
        "from PIL import Image\n"
      ],
      "metadata": {
        "id": "Ko9U_BhBm_HH"
      },
      "execution_count": null,
      "outputs": []
    },
    {
      "cell_type": "code",
      "source": [
        "class MnistDataset(Dataset):\n",
        "    def __init__(\n",
        "        self,\n",
        "        dir: os.PathLike,\n",
        "        image_ids: os.PathLike,\n",
        "        transforms: Sequence[Callable]\n",
        "    ) -> None:\n",
        "        self.dir = dir\n",
        "        self.transforms = transforms\n",
        "\n",
        "        self.labels = {}\n",
        "        with open(image_ids, 'r') as f:\n",
        "            reader = csv.reader(f)\n",
        "            next(reader)\n",
        "            for row in reader:\n",
        "                self.labels[int(row[0])] = list(map(int, row[1:]))\n",
        "\n",
        "        self.image_ids = list(self.labels.keys())\n",
        "\n",
        "    def __len__(self) -> int:\n",
        "        return len(self.image_ids)\n",
        "\n",
        "    def __getitem__(self, index: int) -> Tuple[Tensor]:\n",
        "        image_id = self.image_ids[index]\n",
        "        image = Image.open(\n",
        "            os.path.join(\n",
        "                self.dir, f'{str(image_id).zfill(5)}.png')).convert('RGB')\n",
        "        target = np.array(self.labels.get(image_id)).astype(np.float32)\n",
        "\n",
        "        if self.transforms is not None:\n",
        "            image = self.transforms(image)\n",
        "\n",
        "        return image, target"
      ],
      "metadata": {
        "id": "Sb8Wxhi0m5u3"
      },
      "execution_count": null,
      "outputs": []
    },
    {
      "cell_type": "code",
      "execution_count": null,
      "metadata": {
        "id": "OyBOney5miOK"
      },
      "outputs": [],
      "source": [
        "#test Dataset 정의\n",
        "transforms_test = transforms.Compose([\n",
        "    transforms.ToTensor(),\n",
        "    transforms.Normalize(\n",
        "        [0.485, 0.456, 0.406],\n",
        "        [0.229, 0.224, 0.225]\n",
        "    )\n",
        "])\n",
        "\n",
        "batch_size=32\n",
        "sample_submission = pd.read_csv(\"/content/drive/MyDrive/sample_submission.csv\")\n",
        "testset = MnistDataset('/content/drive/MyDrive/Test image2', '/content/drive/MyDrive/sample_submission.csv', transforms_test)\n"
      ]
    },
    {
      "cell_type": "code",
      "source": [
        "from torchvision.models.efficientnet import efficientnet_b0\n",
        "class MnistModel(nn.Module):\n",
        "    def __init__(self) -> None:\n",
        "        super().__init__()\n",
        "        self.model = efficientnet_b0(pretrained=True)\n",
        "        self.dropout=nn.Dropout(p=0.2)\n",
        "        self.classifier = nn.Linear(1000, 26)\n",
        "        self.silu=nn.SiLU(inplace=False)\n",
        "    def forward(self, x):\n",
        "        #x = F.relu(self.model(x))\n",
        "        x = self.model(x) \n",
        "        x = self.dropout(x)\n",
        "        x = self.silu(x) \n",
        "        x = self.classifier(x)\n",
        "        return x"
      ],
      "metadata": {
        "id": "2dAYEzm7nq9G"
      },
      "execution_count": null,
      "outputs": []
    },
    {
      "cell_type": "code",
      "source": [
        "device = torch.device('cuda' if torch.cuda.is_available() else 'cpu')\n",
        "\n",
        "path = \"/content/drive/MyDrive/models/\"\n",
        "model_list=[]\n",
        "\n",
        "model.load_state_dict(torch.load('/content/drive/MyDrive/models/_06012 eff0.pth'), strict=False)"
      ],
      "metadata": {
        "id": "KEU8MYcdnn-n",
        "colab": {
          "base_uri": "https://localhost:8080/",
          "height": 106,
          "referenced_widgets": [
            "d55c4ce5a28f45699a93368324dc6b1b",
            "57778fc7d3e04645a71ba8361ca7f558",
            "e643b34ac6fa465e89361ab859170a43",
            "ddca0042d35e43cea862a973db54ba43",
            "8292b6ca8d3c4236b3498cdd97c0e4c4",
            "4814bd36f9354ff4a9333d13321c867c",
            "b6361e1dbc764506b109c3f3dabfb0f3",
            "eb2ccd5760024ddbb7501f8cf94e201d",
            "cb1478890ea948eb90aea058ee1e1224",
            "821bd37ffdbe4bd6a93926c012d05112",
            "1ce93d44556141f1b09f336cd3d36d35"
          ]
        },
        "outputId": "8b0ef2ce-0d7c-4801-aec9-814679b0b9cc"
      },
      "execution_count": null,
      "outputs": [
        {
          "output_type": "stream",
          "name": "stderr",
          "text": [
            "Downloading: \"https://download.pytorch.org/models/efficientnet_b3_rwightman-cf984f9c.pth\" to /root/.cache/torch/hub/checkpoints/efficientnet_b3_rwightman-cf984f9c.pth\n"
          ]
        },
        {
          "output_type": "display_data",
          "data": {
            "text/plain": [
              "  0%|          | 0.00/47.2M [00:00<?, ?B/s]"
            ],
            "application/vnd.jupyter.widget-view+json": {
              "version_major": 2,
              "version_minor": 0,
              "model_id": "d55c4ce5a28f45699a93368324dc6b1b"
            }
          },
          "metadata": {}
        },
        {
          "output_type": "execute_result",
          "data": {
            "text/plain": [
              "<All keys matched successfully>"
            ]
          },
          "metadata": {},
          "execution_count": 8
        }
      ]
    },
    {
      "cell_type": "code",
      "source": [
        "model = MnistModel()\n",
        "model.to(device)# gpu에 모델 할당\n",
        "import copy\n",
        "best_models = []\n",
        "model.load_state_dict(torch.load('1st fold'))\n",
        "best_models.append(copy.deepcopy(model))\n",
        "model.load_state_dict(torch.load('2nd fold'))\n",
        "best_models.append(copy.deepcopy(model))\n",
        "model.load_state_dict(torch.load('3th fold'))\n",
        "best_models.append(copy.deepcopy(model))\n",
        "model.load_state_dict(torch.load('4th fold'))\n",
        "best_models.append(copy.deepcopy(model))\n",
        "model.load_state_dict(torch.load('5th fold'))\n",
        "best_models.append(copy.deepcopy(model))"
      ],
      "metadata": {
        "id": "7erqXC37v2q0"
      },
      "execution_count": null,
      "outputs": []
    },
    {
      "cell_type": "code",
      "source": [
        "transforms_test1 = transforms.Compose([\n",
        "                                      \n",
        "    transforms.RandomHorizontalFlip(p=0),\n",
        "    transforms.RandomVerticalFlip(p=0),\n",
        "    transforms.ToTensor(),\n",
        "    transforms.Normalize(\n",
        "        [0.485, 0.456, 0.406],\n",
        "        [0.229, 0.224, 0.225]\n",
        "    )\n",
        "])\n",
        "\n",
        "transforms_test2 = transforms.Compose([\n",
        "                                      \n",
        "    transforms.RandomHorizontalFlip(p=1),\n",
        "    transforms.RandomVerticalFlip(p=0),\n",
        "    transforms.ToTensor(),\n",
        "    transforms.Normalize(\n",
        "        [0.485, 0.456, 0.406],\n",
        "        [0.229, 0.224, 0.225]\n",
        "    )\n",
        "])\n",
        "\n",
        "transforms_test3 = transforms.Compose([\n",
        "                                      \n",
        "    transforms.RandomHorizontalFlip(p=0),\n",
        "    transforms.RandomVerticalFlip(p=1),\n",
        "    transforms.ToTensor(),\n",
        "    transforms.Normalize(\n",
        "        [0.485, 0.456, 0.406],\n",
        "        [0.229, 0.224, 0.225]\n",
        "    )\n",
        "])\n",
        "\n",
        "transforms_test4 = transforms.Compose([\n",
        "                                      \n",
        "    transforms.RandomHorizontalFlip(p=0),\n",
        "    transforms.RandomVerticalFlip(p=0),\n",
        "    ImageNetPolicy(),\n",
        "    transforms.ToTensor(),\n",
        "    transforms.Normalize(\n",
        "        [0.485, 0.456, 0.406],\n",
        "        [0.229, 0.224, 0.225]\n",
        "    )\n",
        "])\n",
        "\n",
        "#test Dataset 정의\n",
        "sample_submission = pd.read_csv(\"/content/sample_submission.csv\")\n",
        "test_df = pd.read_csv('/content/drive/MyDrive/sample_submission.csv')\n",
        "\n",
        "test_dataset1 = MnistDataset('/content/drive/MyDrive/Test image2', '/content/drive/MyDrive/sample_submission.csv', transforms_test,transforms_test1)\n",
        "test_dataset2 = MnistDataset('/content/drive/MyDrive/Test image2', '/content/drive/MyDrive/sample_submission.csv', transforms_test,transforms_test2)\n",
        "test_dataset3 = MnistDataset('/content/drive/MyDrive/Test image2', '/content/drive/MyDrive/sample_submission.csv', transforms_test,transforms_test3)\n",
        "test_dataset4 = MnistDataset('/content/drive/MyDrive/Test image2', '/content/drive/MyDrive/sample_submission.csv', transforms_test,transforms_test4)\n",
        "\n",
        "\n",
        "batch_size = 32\n",
        "test_data_loader1 = DataLoader(\n",
        "    test_dataset1,\n",
        "    batch_size = batch_size,\n",
        "    shuffle = False,\n",
        "    num_workers = 4,\n",
        "    drop_last = False\n",
        ")\n",
        "test_data_loader2 = DataLoader(\n",
        "    test_dataset2,\n",
        "    batch_size = batch_size,\n",
        "    shuffle = False,\n",
        "    num_workers = 4,\n",
        "    drop_last = False\n",
        ")\n",
        "test_data_loader3 = DataLoader(\n",
        "    test_dataset3,\n",
        "    batch_size = batch_size,\n",
        "    shuffle = False,\n",
        "    num_workers = 4,\n",
        "    drop_last = False\n",
        ")\n",
        "test_data_loader4 = DataLoader(\n",
        "    test_dataset4,\n",
        "    batch_size = batch_size,\n",
        "    shuffle = False,\n",
        "    num_workers = 4,\n",
        "    drop_last = False\n",
        ")"
      ],
      "metadata": {
        "id": "roR77UxZwBgT"
      },
      "execution_count": null,
      "outputs": []
    },
    {
      "cell_type": "code",
      "source": [
        "predictions_list = []\n",
        "prediction_df = pd.read_csv(\"/content/drive/MyDrive/sample_submission.csv\")\n",
        "\n",
        "# 4개의 data_loader를 모두 사용 (TTA)\n",
        "for test_data_loader in [test_data_loader1, test_data_loader2, test_data_loader3, test_data_loader4]:\n",
        "  # 5개의 fold마다 가장 좋은 모델을 이용하여 예측\n",
        "  for model in best_models:\n",
        "      prediction_array = np.zeros([prediction_df.shape[0],\n",
        "                                prediction_df.shape[1] -1])      \n",
        "      for idx, sample in enumerate(test_data_loader):\n",
        "      for i, (images, targets) in enumerate(test_loader):\n",
        "\n",
        "          with torch.no_grad():\n",
        "\n",
        "              model.eval()\n",
        "              images = images.to(device)\n",
        "              probs  = model(images)\n",
        "              probs = torch.sigmoid(probs).cpu().detach().numpy()\n",
        "\n",
        "              prediction_array[idx*batch_size: (idx+1)*batch_size ,:]\\\n",
        "                          = probs.astype(np.float32)\n",
        "                          \n",
        "      # 채널을 하나 추가하여 list에 append\n",
        "      predictions_list.append(prediction_array[...,np.newaxis])\n",
        "  \n",
        "# axis = 2를 기준으로 평균 (TTA, folds for each SEED)\n",
        "predictions_array = np.concatenate(predictions_list, axis = 2)\n",
        "predictions_mean = predictions_array.mean(axis = 2)\n",
        "\n",
        "# 평균 값이 0.5보다 클 경우 1 작으면 0\n",
        "predictions_mean = (predictions_mean > 0.5) * 1\n",
        "predictions_mean\n",
        "\n",
        "sample_submission = pd.read_csv(\"/content/drive/MyDrive/sample_submission.csv\")\n",
        "sample_submission.iloc[:,1:] = predictions_mean\n",
        "sample_submission.to_csv(f'perfect_efficientnetb7_rs{SEED}.csv\", index = False) # 경로 수정 필요\n",
        "sample_submission"
      ],
      "metadata": {
        "id": "69DKQI3cwFAs"
      },
      "execution_count": null,
      "outputs": []
    },
    {
      "cell_type": "code",
      "source": [
        "submit = pd.read_csv('/content/drive/MyDrive/sample_submission.csv')\n",
        "test_loader = DataLoader(testset, batch_size=32, num_workers=4)\n",
        "model.eval()\n",
        "batch_size = test_loader.batch_size\n",
        "batch_index = 0\n",
        "for i, (images, targets) in enumerate(test_loader):\n",
        "    \n",
        "    images = images.to(device)\n",
        "    targets = targets.to(device)\n",
        "    outputs = model(images)\n",
        "    outputs = outputs > 0.5\n",
        "    batch_index = i * batch_size\n",
        "    submit.iloc[batch_index:batch_index+batch_size, 1:] = \\\n",
        "        outputs.long().squeeze(0).detach().cpu().numpy()\n",
        "    \n",
        "submit.to_csv('/content/drive/MyDrive/models/baseline_prediction_0613 1.csv', index=False)"
      ],
      "metadata": {
        "id": "gKImNxGnfwUX"
      },
      "execution_count": null,
      "outputs": []
    }
  ]
}